{
 "cells": [
  {
   "cell_type": "markdown",
   "metadata": {},
   "source": [
    "# Short read barcode extraction and analysis"
   ]
  },
  {
   "cell_type": "code",
   "execution_count": 1,
   "metadata": {},
   "outputs": [],
   "source": [
    "import pandas as pd\n",
    "import numpy as np\n",
    "import matplotlib.pyplot as plt\n",
    "import plotly.express as px\n",
    "import plotly.io as pio\n",
    "import seaborn as sns\n",
    "import json\n",
    "import os\n",
    "\n",
    "sns.set_style('darkgrid')\n",
    "pioneer_colors = ['#FF8633', '#423759', '#314942', '#FFA632', '#F7F3ED']\n",
    "sns.set_palette(sns.color_palette(pioneer_colors))\n",
    "pio.templates.default = 'seaborn'\n",
    "\n",
    "result_dir = \".\"\n",
    "use_correct = True"
   ]
  },
  {
   "cell_type": "markdown",
   "metadata": {},
   "source": [
    "## Setup and load results"
   ]
  },
  {
   "cell_type": "code",
   "execution_count": 12,
   "metadata": {},
   "outputs": [],
   "source": [
    "def list_files(samps, basename):\n",
    "    files = {key:os.path.join(val, basename) for key,val in samps.items()}\n",
    "    return {key:val for key,val in files.items() if os.path.exists(val)}\n",
    "\n",
    "def load_barcode_counts(samps, use_corrected):\n",
    "    if use_corrected:\n",
    "        path = \"barcodes_corrected.tsv\"\n",
    "    else:\n",
    "        path = \"barcode_counts.tsv\"\n",
    "    out = []\n",
    "    for key,val in list_files(samps, path).items():\n",
    "        x = pd.read_table(val, names = ['barcode', 'count'])\n",
    "        x['sample'] = key\n",
    "        out.append(x)\n",
    "    return pd.concat(out)\n",
    "\n",
    "def load_read_stats(samps, path):\n",
    "    out = []\n",
    "    for key,val in list_files(samps, path).items():\n",
    "        x = pd.read_table(val)\n",
    "        x['sample'] = key\n",
    "        out.append(x)\n",
    "    return pd.concat(out)\n",
    "\n",
    "def load_correct_stats(samps, path):\n",
    "    out = []\n",
    "    for key,val in list_files(samps, path).items():\n",
    "        x = pd.read_csv(val)\n",
    "        x.insert(0, 'sample', key)\n",
    "        out.append(x)\n",
    "    return pd.concat(out)"
   ]
  },
  {
   "cell_type": "markdown",
   "metadata": {},
   "source": [
    "### Sample list"
   ]
  },
  {
   "cell_type": "code",
   "execution_count": 3,
   "metadata": {},
   "outputs": [
    {
     "name": "stdout",
     "output_type": "stream",
     "text": [
      "Analyzing samples: m-C-00159-2\n"
     ]
    }
   ],
   "source": [
    "samps = [x for x in os.listdir(result_dir) if os.path.isdir(os.path.join(result_dir, x))]\n",
    "samps = {x:os.path.join(result_dir, x) for x in samps}\n",
    "print(f'Analyzing samples: {', '.join(samps)}')"
   ]
  },
  {
   "cell_type": "markdown",
   "metadata": {},
   "source": [
    "### Load results"
   ]
  },
  {
   "cell_type": "code",
   "execution_count": 13,
   "metadata": {},
   "outputs": [],
   "source": [
    "barcode_counts = load_barcode_counts(samps, use_corrected=use_correct)\n",
    "if use_correct:\n",
    "    correct_stats = load_correct_stats(samps, 'correct_stats.csv')\n",
    "read_stats = load_read_stats(samps, 'read_stats.tsv')\n",
    "barcode_stats = load_read_stats(samps, 'barcode_stats.tsv')\n",
    "barcode_filt_stats = load_read_stats(samps, 'barcodes_filtered_stats.tsv')"
   ]
  },
  {
   "cell_type": "code",
   "execution_count": 5,
   "metadata": {},
   "outputs": [],
   "source": [
    "bc_stats = barcode_stats[['sample', 'num_seqs']].rename(columns={'num_seqs': 'barcodes_extracted'}) \n",
    "bc_filt = barcode_filt_stats[['sample', 'num_seqs']].rename(columns={'num_seqs': 'barcodes_filtered'})\n",
    "uniq_bc = barcode_counts.value_counts('sample').reset_index().rename(columns = {'count': 'num_uniq_bc'})"
   ]
  },
  {
   "cell_type": "markdown",
   "metadata": {},
   "source": [
    "### Summary  "
   ]
  },
  {
   "cell_type": "code",
   "execution_count": 6,
   "metadata": {},
   "outputs": [],
   "source": [
    "stats = read_stats[['sample', 'num_seqs']] \\\n",
    "    .drop_duplicates() \\\n",
    "    .merge(bc_stats) \\\n",
    "    .merge(bc_filt) \\\n",
    "    .assign(pct_barcodes = lambda x: 100 * (x.barcodes_filtered / x.num_seqs)) \\\n",
    "    .merge(uniq_bc) \\\n",
    "    .rename(columns = {'sample': 'Sample', \n",
    "                       'num_seqs': 'Total reads', \n",
    "                       'pct_barcodes': 'Perecent with barcodes',\n",
    "                       'barcodes_extracted': 'Barcodes extracted',\n",
    "                       'barcodes_filtered': 'Barcodes passed size filters',\n",
    "                       'num_uniq_bc': 'Unique barcodes'}) "
   ]
  },
  {
   "cell_type": "code",
   "execution_count": 14,
   "metadata": {},
   "outputs": [
    {
     "data": {
      "text/html": [
       "<div>\n",
       "<style scoped>\n",
       "    .dataframe tbody tr th:only-of-type {\n",
       "        vertical-align: middle;\n",
       "    }\n",
       "\n",
       "    .dataframe tbody tr th {\n",
       "        vertical-align: top;\n",
       "    }\n",
       "\n",
       "    .dataframe thead th {\n",
       "        text-align: right;\n",
       "    }\n",
       "</style>\n",
       "<table border=\"1\" class=\"dataframe\">\n",
       "  <thead>\n",
       "    <tr style=\"text-align: right;\">\n",
       "      <th></th>\n",
       "      <th>sample</th>\n",
       "      <th>nUnique</th>\n",
       "      <th>nReads</th>\n",
       "      <th>nTrueBCs</th>\n",
       "      <th>nCorrected</th>\n",
       "      <th>readsUsed</th>\n",
       "      <th>readsTrueBCs</th>\n",
       "      <th>readsCorrected</th>\n",
       "      <th>nExcludedLowCount</th>\n",
       "      <th>readsExcludedLowCount</th>\n",
       "      <th>nExcludedError</th>\n",
       "      <th>readsExcludedError</th>\n",
       "    </tr>\n",
       "  </thead>\n",
       "  <tbody>\n",
       "    <tr>\n",
       "      <th>0</th>\n",
       "      <td>m-C-00159-2</td>\n",
       "      <td>863</td>\n",
       "      <td>863</td>\n",
       "      <td>0</td>\n",
       "      <td>0</td>\n",
       "      <td>0</td>\n",
       "      <td>0</td>\n",
       "      <td>0</td>\n",
       "      <td>863</td>\n",
       "      <td>863</td>\n",
       "      <td>0</td>\n",
       "      <td>0</td>\n",
       "    </tr>\n",
       "  </tbody>\n",
       "</table>\n",
       "</div>"
      ],
      "text/plain": [
       "        sample  nUnique  nReads  nTrueBCs  nCorrected  readsUsed  \\\n",
       "0  m-C-00159-2      863     863         0           0          0   \n",
       "\n",
       "   readsTrueBCs  readsCorrected  nExcludedLowCount  readsExcludedLowCount  \\\n",
       "0             0               0                863                    863   \n",
       "\n",
       "   nExcludedError  readsExcludedError  \n",
       "0               0                   0  "
      ]
     },
     "execution_count": 14,
     "metadata": {},
     "output_type": "execute_result"
    }
   ],
   "source": [
    "correct_stats"
   ]
  },
  {
   "cell_type": "code",
   "execution_count": 7,
   "metadata": {},
   "outputs": [
    {
     "data": {
      "text/html": [
       "<style type=\"text/css\">\n",
       "</style>\n",
       "<table id=\"T_6e74d\">\n",
       "  <thead>\n",
       "    <tr>\n",
       "      <th class=\"blank level0\" >&nbsp;</th>\n",
       "      <th id=\"T_6e74d_level0_col0\" class=\"col_heading level0 col0\" >Sample</th>\n",
       "      <th id=\"T_6e74d_level0_col1\" class=\"col_heading level0 col1\" >Total reads</th>\n",
       "      <th id=\"T_6e74d_level0_col2\" class=\"col_heading level0 col2\" >Barcodes extracted</th>\n",
       "      <th id=\"T_6e74d_level0_col3\" class=\"col_heading level0 col3\" >Barcodes passed size filters</th>\n",
       "      <th id=\"T_6e74d_level0_col4\" class=\"col_heading level0 col4\" >Perecent with barcodes</th>\n",
       "      <th id=\"T_6e74d_level0_col5\" class=\"col_heading level0 col5\" >Unique barcodes</th>\n",
       "    </tr>\n",
       "  </thead>\n",
       "  <tbody>\n",
       "    <tr>\n",
       "      <th id=\"T_6e74d_level0_row0\" class=\"row_heading level0 row0\" >0</th>\n",
       "      <td id=\"T_6e74d_row0_col0\" class=\"data row0 col0\" >m-C-00159-2</td>\n",
       "      <td id=\"T_6e74d_row0_col1\" class=\"data row0 col1\" >1,000</td>\n",
       "      <td id=\"T_6e74d_row0_col2\" class=\"data row0 col2\" >865</td>\n",
       "      <td id=\"T_6e74d_row0_col3\" class=\"data row0 col3\" >863</td>\n",
       "      <td id=\"T_6e74d_row0_col4\" class=\"data row0 col4\" >86.30</td>\n",
       "      <td id=\"T_6e74d_row0_col5\" class=\"data row0 col5\" >863</td>\n",
       "    </tr>\n",
       "  </tbody>\n",
       "</table>\n"
      ],
      "text/plain": [
       "<pandas.io.formats.style.Styler at 0x19c491130>"
      ]
     },
     "execution_count": 7,
     "metadata": {},
     "output_type": "execute_result"
    }
   ],
   "source": [
    "stats.style.format(precision = 2, thousands = \",\")"
   ]
  },
  {
   "cell_type": "code",
   "execution_count": null,
   "metadata": {},
   "outputs": [],
   "source": [
    "stats.to_clipboard()"
   ]
  },
  {
   "cell_type": "code",
   "execution_count": null,
   "metadata": {},
   "outputs": [],
   "source": [
    "stat_long = stats.melt(id_vars='Sample').query('variable != \"Perecent with barcodes\"')\n",
    "px.bar(stat_long, x='variable', y='value', labels={'value': 'Count', 'variable':''},\n",
    "       width = 700)"
   ]
  },
  {
   "cell_type": "markdown",
   "metadata": {},
   "source": [
    "### Barcode counts"
   ]
  },
  {
   "cell_type": "code",
   "execution_count": null,
   "metadata": {},
   "outputs": [],
   "source": [
    "#fig, ax = plt.subplots(figsize=(10,7))\n",
    "gr = sns.displot(barcode_counts, x = 'count', col = 'sample', col_order = samps, bins = 100, height= 4, aspect=1.5)\n",
    "gr.set_titles(col_template = '{col_name}')\n",
    "gr.set(yscale='log')\n",
    "gr.set_axis_labels('Count of barcode', 'Number of barcodes')"
   ]
  },
  {
   "cell_type": "code",
   "execution_count": null,
   "metadata": {},
   "outputs": [],
   "source": [
    "barcode_counts.sort_values('count', ascending=False)"
   ]
  },
  {
   "cell_type": "code",
   "execution_count": null,
   "metadata": {},
   "outputs": [],
   "source": [
    "fig = px.histogram(barcode_counts, x = \"count\", nbins = 500, log_y=True, \n",
    "                   color='sample', width = 600, template='seaborn',\n",
    "                   color_discrete_sequence=px.colors.qualitative.Bold)\n",
    "fig.update_layout(\n",
    "    yaxis = dict(tickformat = \".1e\")\n",
    ")"
   ]
  },
  {
   "cell_type": "code",
   "execution_count": null,
   "metadata": {},
   "outputs": [],
   "source": []
  }
 ],
 "metadata": {
  "kernelspec": {
   "display_name": "base",
   "language": "python",
   "name": "python3"
  },
  "language_info": {
   "codemirror_mode": {
    "name": "ipython",
    "version": 3
   },
   "file_extension": ".py",
   "mimetype": "text/x-python",
   "name": "python",
   "nbconvert_exporter": "python",
   "pygments_lexer": "ipython3",
   "version": "3.12.2"
  }
 },
 "nbformat": 4,
 "nbformat_minor": 2
}
