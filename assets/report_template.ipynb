{
 "cells": [
  {
   "cell_type": "markdown",
   "metadata": {},
   "source": [
    "# Short read barcode extraction and analysis"
   ]
  },
  {
   "cell_type": "code",
   "execution_count": 14,
   "metadata": {},
   "outputs": [],
   "source": [
    "import pandas as pd\n",
    "import numpy as np\n",
    "import matplotlib.pyplot as plt\n",
    "import seaborn as sns\n",
    "import json\n",
    "import os\n",
    "\n",
    "sns.set_style('darkgrid')\n",
    "pioneer_colors = ['#FF8633', '#423759', '#314942', '#FFA632', '#F7F3ED']\n",
    "sns.set_palette(sns.color_palette(pioneer_colors))\n",
    "\n",
    "result_dir = \".\""
   ]
  },
  {
   "cell_type": "markdown",
   "metadata": {},
   "source": [
    "## Setup and load results"
   ]
  },
  {
   "cell_type": "code",
   "execution_count": 2,
   "metadata": {},
   "outputs": [],
   "source": [
    "def list_files(samps, basename):\n",
    "    files = {key:os.path.join(val, basename) for key,val in samps.items()}\n",
    "    return {key:val for key,val in files.items() if os.path.exists(val)}\n",
    "\n",
    "def load_barcode_counts(samps):\n",
    "    out = []\n",
    "    for key,val in list_files(samps, \"barcode_counts.tsv\").items():\n",
    "        x = pd.read_table(val, names = ['barcode', 'count'])\n",
    "        x['sample'] = key\n",
    "        out.append(x)\n",
    "    return pd.concat(out)\n",
    "\n",
    "def load_read_stats(samps):\n",
    "    out = []\n",
    "    for key,val in list_files(samps, \"read_stats.tsv\").items():\n",
    "        x = pd.read_table(val)\n",
    "        x['sample'] = key\n",
    "        out.append(x)\n",
    "    return pd.concat(out)"
   ]
  },
  {
   "cell_type": "markdown",
   "metadata": {},
   "source": [
    "### Sample list"
   ]
  },
  {
   "cell_type": "code",
   "execution_count": null,
   "metadata": {},
   "outputs": [],
   "source": [
    "samps = [x for x in os.listdir(result_dir) if os.path.isdir(os.path.join(result_dir, x))]\n",
    "samps = {x:os.path.join(result_dir, x) for x in samps}\n",
    "print(f'Analyzing samples: {', '.join(samps)}')"
   ]
  },
  {
   "cell_type": "markdown",
   "metadata": {},
   "source": [
    "### Load results"
   ]
  },
  {
   "cell_type": "code",
   "execution_count": 4,
   "metadata": {},
   "outputs": [],
   "source": [
    "barcode_counts = load_barcode_counts(samps)\n",
    "read_stats = load_read_stats(samps)"
   ]
  },
  {
   "cell_type": "markdown",
   "metadata": {},
   "source": [
    "### Raw read statistics"
   ]
  },
  {
   "cell_type": "code",
   "execution_count": null,
   "metadata": {},
   "outputs": [],
   "source": [
    "read_stats.style.format(precision = 3, thousands = \",\").format_index(str.title, axis = 1)"
   ]
  },
  {
   "cell_type": "markdown",
   "metadata": {},
   "source": [
    "### Barcode detection"
   ]
  },
  {
   "cell_type": "code",
   "execution_count": null,
   "metadata": {},
   "outputs": [],
   "source": [
    "cut_reports = []\n",
    "for key,val in list_files(samps, \"cutadapt_report.json\").items():\n",
    "    with open(val, 'r') as jf:\n",
    "        cut_reports.append(json.load(jf))\n",
    "\n",
    "in_reads = cut_reports[0]['read_counts']['input']\n",
    "out_reads = cut_reports[0]['read_counts']['output']\n",
    "discard = in_reads - out_reads\n",
    "frac = round(100 * (discard / in_reads), 2)\n",
    "f'{in_reads} reads input and {out_reads} reads detected with barcode, with {discard} ({frac}%) not having a detectable barcode on the read'"
   ]
  },
  {
   "cell_type": "markdown",
   "metadata": {},
   "source": [
    "### Barcode counts"
   ]
  },
  {
   "cell_type": "code",
   "execution_count": null,
   "metadata": {},
   "outputs": [],
   "source": [
    "#fig, ax = plt.subplots(figsize=(10,7))\n",
    "gr = sns.FacetGrid(barcode_counts, col = 'sample', sharey = True, col_order=samps, height = 3, aspect=1.5)\n",
    "gr.map(sns.histplot, 'count')\n",
    "gr.set_titles(col_template = '{col_name}')\n",
    "gr.set(yscale='log')\n",
    "gr.set_axis_labels('Number of reads', 'Number of lib members')"
   ]
  },
  {
   "cell_type": "code",
   "execution_count": null,
   "metadata": {},
   "outputs": [],
   "source": []
  }
 ],
 "metadata": {
  "kernelspec": {
   "display_name": "base",
   "language": "python",
   "name": "python3"
  },
  "language_info": {
   "codemirror_mode": {
    "name": "ipython",
    "version": 3
   },
   "file_extension": ".py",
   "mimetype": "text/x-python",
   "name": "python",
   "nbconvert_exporter": "python",
   "pygments_lexer": "ipython3",
   "version": "3.12.2"
  }
 },
 "nbformat": 4,
 "nbformat_minor": 2
}
