{
 "cells": [
  {
   "cell_type": "markdown",
   "metadata": {},
   "source": [
    "# Short read barcode extraction and analysis"
   ]
  },
  {
   "cell_type": "code",
   "execution_count": 1,
   "metadata": {},
   "outputs": [],
   "source": [
    "import pandas as pd\n",
    "import numpy as np\n",
    "import matplotlib.pyplot as plt\n",
    "import seaborn as sns\n",
    "import json\n",
    "import os\n",
    "\n",
    "sns.set_style('darkgrid')\n",
    "pioneer_colors = ['#FF8633', '#423759', '#314942', '#FFA632', '#F7F3ED']\n",
    "sns.set_palette(sns.color_palette(pioneer_colors))\n",
    "\n",
    "result_dir = \".\""
   ]
  },
  {
   "cell_type": "markdown",
   "metadata": {},
   "source": [
    "## Setup and load results"
   ]
  },
  {
   "cell_type": "code",
   "execution_count": 6,
   "metadata": {},
   "outputs": [],
   "source": [
    "def list_files(samps, basename):\n",
    "    files = {key:os.path.join(val, basename) for key,val in samps.items()}\n",
    "    return {key:val for key,val in files.items() if os.path.exists(val)}\n",
    "\n",
    "def load_barcode_counts(samps, use_corrected = True):\n",
    "    if use_corrected:\n",
    "        path = \"barcodes_corrected.tsv\"\n",
    "    else:\n",
    "        path = \"barcode_counts.tsv\"\n",
    "    out = []\n",
    "    for key,val in list_files(samps, path).items():\n",
    "        x = pd.read_table(val, names = ['barcode', 'count'])\n",
    "        x['sample'] = key\n",
    "        out.append(x)\n",
    "    return pd.concat(out)\n",
    "\n",
    "def load_read_stats(samps, path):\n",
    "    out = []\n",
    "    for key,val in list_files(samps, path).items():\n",
    "        x = pd.read_table(val)\n",
    "        x['sample'] = key\n",
    "        out.append(x)\n",
    "    return pd.concat(out)"
   ]
  },
  {
   "cell_type": "markdown",
   "metadata": {},
   "source": [
    "### Sample list"
   ]
  },
  {
   "cell_type": "code",
   "execution_count": 3,
   "metadata": {},
   "outputs": [
    {
     "name": "stdout",
     "output_type": "stream",
     "text": [
      "Analyzing samples: m-C-00159-2\n"
     ]
    }
   ],
   "source": [
    "samps = [x for x in os.listdir(result_dir) if os.path.isdir(os.path.join(result_dir, x))]\n",
    "samps = {x:os.path.join(result_dir, x) for x in samps}\n",
    "print(f'Analyzing samples: {', '.join(samps)}')"
   ]
  },
  {
   "cell_type": "markdown",
   "metadata": {},
   "source": [
    "### Load results"
   ]
  },
  {
   "cell_type": "code",
   "execution_count": 8,
   "metadata": {},
   "outputs": [],
   "source": [
    "barcode_counts = load_barcode_counts(samps, use_corrected=True)\n",
    "read_stats = load_read_stats(samps, \"read_stats.tsv\")\n",
    "barcode_stats = load_read_stats(samps, \"barcode_stats.tsv\")\n",
    "barcode_filt_stats = load_read_stats(samps, \"barcodes_filtered_stats.tsv\")"
   ]
  },
  {
   "cell_type": "code",
   "execution_count": 14,
   "metadata": {},
   "outputs": [],
   "source": [
    "bc_stats = barcode_stats[['sample', 'num_seqs']].rename(columns={'num_seqs': 'barcodes_extracted'}) \n",
    "bc_filt = barcode_filt_stats[['sample', 'num_seqs']].rename(columns={'num_seqs': 'barcodes_filtered'})\n",
    "uniq_bc = barcode_counts.value_counts('sample').reset_index().rename(columns = {'count': 'num_uniq_bc'})"
   ]
  },
  {
   "cell_type": "markdown",
   "metadata": {},
   "source": [
    "### Summary  "
   ]
  },
  {
   "cell_type": "code",
   "execution_count": 17,
   "metadata": {},
   "outputs": [
    {
     "data": {
      "text/html": [
       "<style type=\"text/css\">\n",
       "</style>\n",
       "<table id=\"T_9acf2\">\n",
       "  <thead>\n",
       "    <tr>\n",
       "      <th class=\"blank level0\" >&nbsp;</th>\n",
       "      <th id=\"T_9acf2_level0_col0\" class=\"col_heading level0 col0\" >Sample</th>\n",
       "      <th id=\"T_9acf2_level0_col1\" class=\"col_heading level0 col1\" >Total reads</th>\n",
       "      <th id=\"T_9acf2_level0_col2\" class=\"col_heading level0 col2\" >Barcodes extracted</th>\n",
       "      <th id=\"T_9acf2_level0_col3\" class=\"col_heading level0 col3\" >Barcodes passed size filters</th>\n",
       "      <th id=\"T_9acf2_level0_col4\" class=\"col_heading level0 col4\" >Perecent with barcodes</th>\n",
       "      <th id=\"T_9acf2_level0_col5\" class=\"col_heading level0 col5\" >Unique barcodes</th>\n",
       "    </tr>\n",
       "  </thead>\n",
       "  <tbody>\n",
       "    <tr>\n",
       "      <th id=\"T_9acf2_level0_row0\" class=\"row_heading level0 row0\" >0</th>\n",
       "      <td id=\"T_9acf2_row0_col0\" class=\"data row0 col0\" >m-C-00159-2</td>\n",
       "      <td id=\"T_9acf2_row0_col1\" class=\"data row0 col1\" >4,935,927</td>\n",
       "      <td id=\"T_9acf2_row0_col2\" class=\"data row0 col2\" >4,834,241</td>\n",
       "      <td id=\"T_9acf2_row0_col3\" class=\"data row0 col3\" >4,816,765</td>\n",
       "      <td id=\"T_9acf2_row0_col4\" class=\"data row0 col4\" >97.59</td>\n",
       "      <td id=\"T_9acf2_row0_col5\" class=\"data row0 col5\" >3,727,999</td>\n",
       "    </tr>\n",
       "  </tbody>\n",
       "</table>\n"
      ],
      "text/plain": [
       "<pandas.io.formats.style.Styler at 0x1949ab290>"
      ]
     },
     "execution_count": 17,
     "metadata": {},
     "output_type": "execute_result"
    }
   ],
   "source": [
    "\n",
    "read_stats[['sample', 'num_seqs']] \\\n",
    "    .drop_duplicates() \\\n",
    "    .merge(bc_stats) \\\n",
    "    .merge(bc_filt) \\\n",
    "    .assign(pct_barcodes = lambda x: 100 * (x.barcodes_filtered / x.num_seqs)) \\\n",
    "    .merge(uniq_bc) \\\n",
    "    .rename(columns = {'sample': 'Sample', \n",
    "                       'num_seqs': 'Total reads', \n",
    "                       'pct_barcodes': 'Perecent with barcodes',\n",
    "                       'barcodes_extracted': 'Barcodes extracted',\n",
    "                       'barcodes_filtered': 'Barcodes passed size filters',\n",
    "                       'num_uniq_bc': 'Unique barcodes'}) \\\n",
    "    .style.format(precision = 2, thousands = \",\")"
   ]
  },
  {
   "cell_type": "markdown",
   "metadata": {},
   "source": [
    "### Barcode counts"
   ]
  },
  {
   "cell_type": "code",
   "execution_count": 21,
   "metadata": {},
   "outputs": [
    {
     "data": {
      "text/plain": [
       "<seaborn.axisgrid.FacetGrid at 0x1be7ed940>"
      ]
     },
     "execution_count": 21,
     "metadata": {},
     "output_type": "execute_result"
    },
    {
     "data": {
      "image/png": "[encoded data removed]",
      "text/plain": [
       "<Figure size 500x500 with 1 Axes>"
      ]
     },
     "metadata": {},
     "output_type": "display_data"
    }
   ],
   "source": [
    "#fig, ax = plt.subplots(figsize=(10,7))\n",
    "gr = sns.displot(barcode_counts, x = 'count', col = 'sample', col_order = samps)\n",
    "gr.set_titles(col_template = '{col_name}')\n",
    "gr.set(yscale='log')\n",
    "gr.set_axis_labels('Number of reads', 'Number of lib members')"
   ]
  },
  {
   "cell_type": "code",
   "execution_count": null,
   "metadata": {},
   "outputs": [],
   "source": []
  }
 ],
 "metadata": {
  "kernelspec": {
   "display_name": "base",
   "language": "python",
   "name": "python3"
  },
  "language_info": {
   "codemirror_mode": {
    "name": "ipython",
    "version": 3
   },
   "file_extension": ".py",
   "mimetype": "text/x-python",
   "name": "python",
   "nbconvert_exporter": "python",
   "pygments_lexer": "ipython3",
   "version": "3.12.2"
  }
 },
 "nbformat": 4,
 "nbformat_minor": 2
}
