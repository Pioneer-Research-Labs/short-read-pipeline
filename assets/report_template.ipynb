{
 "cells": [
  {
   "cell_type": "markdown",
   "metadata": {},
   "source": [
    "# Short read barcode extraction and analysis"
   ]
  },
  {
   "cell_type": "code",
   "execution_count": 33,
   "metadata": {},
   "outputs": [],
   "source": [
    "import pandas as pd\n",
    "import numpy as np\n",
    "import matplotlib.pyplot as plt\n",
    "import plotly.express as px\n",
    "import plotly.io as pio\n",
    "import seaborn as sns\n",
    "import os\n",
    "\n",
    "sns.set_style('darkgrid')\n",
    "pioneer_colors = ['#FF8633', '#423759', '#314942', '#FFA632', '#F7F3ED']\n",
    "sns.set_palette(sns.color_palette(pioneer_colors))\n",
    "pio.templates.default = 'seaborn'\n",
    "pio.templates['seaborn'].layout.colorway = px.colors.qualitative.Bold\n"
   ]
  },
  {
   "cell_type": "markdown",
   "metadata": {},
   "source": [
    "## Setup and load results"
   ]
  },
  {
   "cell_type": "markdown",
   "metadata": {},
   "source": [
    "### Load results"
   ]
  },
  {
   "cell_type": "code",
   "execution_count": 6,
   "metadata": {},
   "outputs": [],
   "source": [
    "# Has summary stats for each sample.  If you ran the barcode correction this will have unique barcodes per sample.\n",
    "# Without correction you can load the number of unique barcodes from the \"all_uniq_barcodes\" file.\n",
    "# Meta can be added, joining on the 'Sample' column.\n",
    "stats = pd.read_csv('all_stats.csv')\n",
    "\n",
    "# using the filtered version here (counts > 5)\n",
    "counts = pd.read_csv('all_barcodes_freq_5.csv')"
   ]
  },
  {
   "cell_type": "markdown",
   "metadata": {},
   "source": [
    "### Summary  "
   ]
  },
  {
   "cell_type": "code",
   "execution_count": null,
   "metadata": {},
   "outputs": [],
   "source": [
    "stats.style.format(precision = 2, thousands = \",\")"
   ]
  },
  {
   "cell_type": "code",
   "execution_count": 14,
   "metadata": {},
   "outputs": [],
   "source": [
    "total_columns = ['Total reads', 'Barcodes extracted', 'Barcodes passed size filters']\n",
    "barcode_columns = ['Unique Barcodes', 'Num True Barcodes', 'Barcodes Corrected']"
   ]
  },
  {
   "cell_type": "code",
   "execution_count": null,
   "metadata": {},
   "outputs": [],
   "source": [
    "px.bar(\n",
    "       stats.melt(id_vars='Sample').query('variable in @total_columns'),\n",
    "       x = 'Sample', y='value', color = 'variable',\n",
    "       barmode = 'group',\n",
    "       labels={'value': 'Count', 'variable':''}\n",
    ")"
   ]
  },
  {
   "cell_type": "code",
   "execution_count": null,
   "metadata": {},
   "outputs": [],
   "source": [
    "px.bar(\n",
    "       stats.melt(id_vars='Sample').query('variable in @barcode_columns'),\n",
    "       x = 'Sample', y='value', color = 'variable',\n",
    "       barmode = 'group',\n",
    "       labels={'value': 'Count', 'variable':''}\n",
    ")"
   ]
  },
  {
   "cell_type": "markdown",
   "metadata": {},
   "source": [
    "## Barcode distribution"
   ]
  },
  {
   "cell_type": "code",
   "execution_count": null,
   "metadata": {},
   "outputs": [],
   "source": [
    "ncols = int(np.ceil(len(counts['sample'].unique()) / 2))\n",
    "px.histogram(counts, x = 'n', facet_col = 'sample', facet_col_wrap = ncols, log_y = True)"
   ]
  },
  {
   "cell_type": "code",
   "execution_count": null,
   "metadata": {},
   "outputs": [],
   "source": []
  }
 ],
 "metadata": {
  "kernelspec": {
   "display_name": "base",
   "language": "python",
   "name": "python3"
  },
  "language_info": {
   "codemirror_mode": {
    "name": "ipython",
    "version": 3
   },
   "file_extension": ".py",
   "mimetype": "text/x-python",
   "name": "python",
   "nbconvert_exporter": "python",
   "pygments_lexer": "ipython3",
   "version": "3.12.2"
  }
 },
 "nbformat": 4,
 "nbformat_minor": 2
}
